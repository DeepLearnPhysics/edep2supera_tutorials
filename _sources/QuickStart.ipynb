{
 "cells": [
  {
   "cell_type": "markdown",
   "id": "b531f8a7",
   "metadata": {},
   "source": [
    "# Quick Start\n",
    "With the right `edep-sim` file and the software environment, running `edep2supera` and generating a `larcv` file is simple. In this example we use a prepared example file which we download below."
   ]
  },
  {
   "cell_type": "code",
   "execution_count": 1,
   "id": "6349959b",
   "metadata": {},
   "outputs": [
    {
     "name": "stdout",
     "output_type": "stream",
     "text": [
      "--2022-11-16 00:34:21--  https://web.stanford.edu/~kterao/edep-sim-example.root\r\n",
      "Resolving web.stanford.edu (web.stanford.edu)... 171.67.215.200, 2607:f6d0:0:925a::ab43:d7c8\r\n",
      "Connecting to web.stanford.edu (web.stanford.edu)|171.67.215.200|:443... connected.\r\n"
     ]
    },
    {
     "name": "stdout",
     "output_type": "stream",
     "text": [
      "HTTP request sent, awaiting response... 200 OK\r\n",
      "Length: 6604072 (6.3M)\r\n",
      "Saving to: 'edep-sim-example.root.2'\r\n",
      "\r\n",
      "\r",
      "edep-sim-example.ro   0%[                    ]       0  --.-KB/s               "
     ]
    },
    {
     "name": "stdout",
     "output_type": "stream",
     "text": [
      "\r",
      "edep-sim-example.ro  28%[====>               ]   1.80M  9.02MB/s               "
     ]
    },
    {
     "name": "stdout",
     "output_type": "stream",
     "text": [
      "\r",
      "edep-sim-example.ro  55%[==========>         ]   3.49M  8.67MB/s               "
     ]
    },
    {
     "name": "stdout",
     "output_type": "stream",
     "text": [
      "\r",
      "edep-sim-example.ro  83%[===============>    ]   5.24M  8.65MB/s               "
     ]
    },
    {
     "name": "stdout",
     "output_type": "stream",
     "text": [
      "\r",
      "edep-sim-example.ro 100%[===================>]   6.30M  8.64MB/s    in 0.7s    \r\n",
      "\r\n",
      "2022-11-16 00:34:21 (8.64 MB/s) - 'edep-sim-example.root.2' saved [6604072/6604072]\r\n",
      "\r\n"
     ]
    }
   ],
   "source": [
    "! wget https://web.stanford.edu/~kterao/edep-sim-example.root"
   ]
  },
  {
   "cell_type": "markdown",
   "id": "b776877e",
   "metadata": {},
   "source": [
    "## Running `edep2supera`\n",
    "\n",
    "`edep2supera` installation should come with `run_edep2supera.py` executable. If you installed locally by `pip install --user`, make sure your local installation is exposed to `$PATH` (i.e. `export PATH=$HOME/.local/bin:$PATH`)"
   ]
  },
  {
   "cell_type": "code",
   "execution_count": 2,
   "id": "6c0fb9d3",
   "metadata": {},
   "outputs": [
    {
     "name": "stdout",
     "output_type": "stream",
     "text": [
      "Usage: Provide option flags followed by a list of input files.\r\n",
      "\r\n",
      "Options:\r\n",
      "  -h, --help            show this help message and exit\r\n",
      "  -o FILE, --output=FILE\r\n",
      "                        output (LArCV) filename\r\n",
      "  -c CONFIG, --config=CONFIG\r\n",
      "                        configuration (a filename or pre-defined key)\r\n",
      "  -n INT, --num_events=INT\r\n",
      "                        number of events to process\r\n",
      "  -s INT, --skip=INT    number of first events to skip\r\n"
     ]
    }
   ],
   "source": [
    "! run_edep2supera.py --help"
   ]
  },
  {
   "cell_type": "markdown",
   "id": "231764df",
   "metadata": {},
   "source": [
    "The first argument should be the output (`larcv`) filename to be created. The second argument should be the first `edep-sim` file to be converted. You can keep adding more arguments to add more `edep-sim` files."
   ]
  },
  {
   "cell_type": "code",
   "execution_count": 3,
   "id": "c79c91d2",
   "metadata": {},
   "outputs": [
    {
     "name": "stdout",
     "output_type": "stream",
     "text": [
      "Input edep-sim files:\r\n",
      "edep-sim-example.root\r\n"
     ]
    },
    {
     "name": "stdout",
     "output_type": "stream",
     "text": [
      "... processing 10 events.\r\n",
      "Output: larcv.root\r\n"
     ]
    },
    {
     "name": "stdout",
     "output_type": "stream",
     "text": [
      "   \u001b[93m[WARNING]\u001b[00m \u001b[0m \u001b[94m<SuperaDriver::Configure>\u001b[00m starting\r\n",
      "   \u001b[93m[WARNING]\u001b[00m \u001b[0m \u001b[94m<SuperaDriver::Configure>\u001b[00m BBox config...\r\n",
      "   \u001b[93m[WARNING]\u001b[00m \u001b[0m \u001b[94m<SuperaDriver::Configure>\u001b[00m Label config...\r\n"
     ]
    },
    {
     "name": "stdout",
     "output_type": "stream",
     "text": [
      "    \u001b[95m[NORMAL]\u001b[00m \u001b[0m \u001b[94m<IOManager::get_data>\u001b[00m Created TTree sparse3d_pcluster_tree (id=0) w/ 0 entries...\r\n"
     ]
    },
    {
     "name": "stdout",
     "output_type": "stream",
     "text": [
      "    \u001b[95m[NORMAL]\u001b[00m \u001b[0m \u001b[94m<IOManager::get_data>\u001b[00m Created TTree sparse3d_pcluster_semantic_tree (id=1) w/ 0 entries...\r\n"
     ]
    },
    {
     "name": "stdout",
     "output_type": "stream",
     "text": [
      "    \u001b[95m[NORMAL]\u001b[00m \u001b[0m \u001b[94m<IOManager::get_data>\u001b[00m Created TTree cluster3d_pcluster_tree (id=2) w/ 0 entries...\r\n"
     ]
    },
    {
     "name": "stdout",
     "output_type": "stream",
     "text": [
      "    \u001b[95m[NORMAL]\u001b[00m \u001b[0m \u001b[94m<IOManager::get_data>\u001b[00m Created TTree cluster3d_pcluster_dedx_tree (id=3) w/ 0 entries...\r\n"
     ]
    },
    {
     "name": "stdout",
     "output_type": "stream",
     "text": [
      "    \u001b[95m[NORMAL]\u001b[00m \u001b[0m \u001b[94m<IOManager::get_data>\u001b[00m Created TTree particle_pcluster_tree (id=4) w/ 0 entries...\r\n"
     ]
    },
    {
     "name": "stdout",
     "output_type": "stream",
     "text": [
      "    \u001b[95m[NORMAL]\u001b[00m \u001b[0m \u001b[94m<IOManager::finalize>\u001b[00m Writing sparse3d_pcluster_tree with 10 entries\r\n",
      "    \u001b[95m[NORMAL]\u001b[00m \u001b[0m \u001b[94m<IOManager::finalize>\u001b[00m Writing sparse3d_pcluster_semantic_tree with 10 entries\r\n",
      "    \u001b[95m[NORMAL]\u001b[00m \u001b[0m \u001b[94m<IOManager::finalize>\u001b[00m Writing cluster3d_pcluster_tree with 10 entries\r\n",
      "    \u001b[95m[NORMAL]\u001b[00m \u001b[0m \u001b[94m<IOManager::finalize>\u001b[00m Writing cluster3d_pcluster_dedx_tree with 10 entries\r\n",
      "    \u001b[95m[NORMAL]\u001b[00m \u001b[0m \u001b[94m<IOManager::finalize>\u001b[00m Writing particle_pcluster_tree with 10 entries\r\n",
      "    \u001b[95m[NORMAL]\u001b[00m \u001b[0m \u001b[94m<IOManager::finalize>\u001b[00m Closing output file\r\n"
     ]
    }
   ],
   "source": [
    "! run_edep2supera.py -o larcv.root -c tutorial edep-sim-example.root"
   ]
  },
  {
   "cell_type": "markdown",
   "id": "c84fc12b",
   "metadata": {},
   "source": [
    "... and now you should have `larcv.root` :)"
   ]
  }
 ],
 "metadata": {
  "execution": {
   "timeout": 300
  },
  "jupytext": {
   "cell_metadata_filter": "-all",
   "formats": "md:myst",
   "text_representation": {
    "extension": ".md",
    "format_name": "myst",
    "format_version": 0.13,
    "jupytext_version": "1.10.3"
   }
  },
  "kernelspec": {
   "display_name": "Python 3",
   "language": "python",
   "name": "python3"
  },
  "language_info": {
   "codemirror_mode": {
    "name": "ipython",
    "version": 3
   },
   "file_extension": ".py",
   "mimetype": "text/x-python",
   "name": "python",
   "nbconvert_exporter": "python",
   "pygments_lexer": "ipython3",
   "version": "3.8.10"
  },
  "source_map": [
   16,
   21,
   23,
   29,
   31,
   35,
   37
  ]
 },
 "nbformat": 4,
 "nbformat_minor": 5
}